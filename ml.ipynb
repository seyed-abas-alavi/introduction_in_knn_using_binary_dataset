{
 "cells": [
  {
   "cell_type": "code",
   "execution_count": 1,
   "id": "e140d801",
   "metadata": {},
   "outputs": [],
   "source": [
    "from sklearn import datasets\n",
    "from sklearn.model_selection import train_test_split\n",
    "from sklearn.neighbors import KNeighborsClassifier\n",
    "from sklearn.metrics import (confusion_matrix, accuracy_score, recall_score, precision_score , f1_score, roc_curve)\n",
    "\n",
    "import pandas as pd\n",
    "import numpy as np\n",
    "import matplotlib.pyplot as plt\n",
    "import seaborn as sns"
   ]
  },
  {
   "cell_type": "code",
   "execution_count": 2,
   "id": "5d5ef48a",
   "metadata": {},
   "outputs": [],
   "source": [
    "'''\n",
    "1-perProcessing\n",
    "     1/1:  load_dataset\n",
    "     1/2:  missing_value\n",
    "     1/3:  duplicates\n",
    "     1/4:  concatation\n",
    "     1/5:  outliers\n",
    "     1/6:  noises\n",
    "     1/7:  train and test data\n",
    "2-Processing\n",
    "     2/0:  normalize\n",
    "     2/1:  fit(train)\n",
    "     2/2:  score \n",
    "\n",
    "3-PpostProcessing\n",
    "     3/1: overfit and under fit\n",
    "     3/2:reducin demensions\n",
    "\n",
    " \n",
    "''';\n"
   ]
  },
  {
   "cell_type": "code",
   "execution_count": 3,
   "id": "fea58402",
   "metadata": {},
   "outputs": [],
   "source": [
    "cancer_data = datasets.load_breast_cancer()\n",
    "cancer_df = pd.DataFrame(data=cancer_data['data'], columns=cancer_data['feature_names'])\n",
    "cancer_target = cancer_data['target']"
   ]
  },
  {
   "cell_type": "code",
   "execution_count": 4,
   "id": "c5c649bf",
   "metadata": {},
   "outputs": [
    {
     "data": {
      "text/plain": [
       "False"
      ]
     },
     "execution_count": 4,
     "metadata": {},
     "output_type": "execute_result"
    }
   ],
   "source": [
    "# evaluate is null\n",
    "cancer_df.isnull().any()\n",
    "# evaluate is duplicated\n",
    "cancer_df.duplicated().any()"
   ]
  },
  {
   "cell_type": "code",
   "execution_count": 5,
   "id": "16ec5243",
   "metadata": {},
   "outputs": [],
   "source": [
    "# evaluate outliers\n",
    "\n",
    "def get_outliers_indexes(df):\n",
    "   res = {}\n",
    "   for col in df: \n",
    "        q1, q3 = np.quantile(df[col], (0.25, 0.75))\n",
    "        IQR = q3 -q1\n",
    "        upper = df[col] >= (q3+ IQR*1.5)\n",
    "        lower = df[col] <= (q1- IQR*1.5)\n",
    "        res[col] = np.concatenate((upper[upper==True].index.values, lower[lower==True].index.values))      \n",
    "   return res\n",
    "    \n",
    "    "
   ]
  },
  {
   "cell_type": "code",
   "execution_count": 6,
   "id": "0778a1a8",
   "metadata": {},
   "outputs": [],
   "source": [
    "s = cancer_df['worst concavity']\n",
    "q1, q3 = np.quantile(cancer_df['worst concavity'], (0.25, 0.75))\n",
    "iqr = q3 - q1\n",
    "upper = q3 + iqr*1.5\n",
    "lower = q1 - iqr-1.5"
   ]
  },
  {
   "cell_type": "code",
   "execution_count": 7,
   "id": "9dd788c2",
   "metadata": {},
   "outputs": [],
   "source": [
    "\n",
    "outliers_indexes = get_outliers_indexes(cancer_df)"
   ]
  },
  {
   "cell_type": "code",
   "execution_count": 8,
   "id": "16da3d0c",
   "metadata": {},
   "outputs": [],
   "source": [
    "#noises\n",
    "\n"
   ]
  },
  {
   "cell_type": "code",
   "execution_count": 9,
   "id": "fb13e619",
   "metadata": {},
   "outputs": [],
   "source": [
    "#train and test data:\n",
    "\n",
    "x_train, x_test, y_train, y_test = train_test_split(cancer_data['data'], cancer_target, test_size=0.3, stratify=cancer_target, random_state=42)"
   ]
  },
  {
   "cell_type": "code",
   "execution_count": 10,
   "id": "71a679c9",
   "metadata": {},
   "outputs": [],
   "source": [
    "#model training\n",
    "\n",
    "knn = KNeighborsClassifier(n_neighbors=5)\n",
    "knn.fit(x_train, y_train)\n",
    "y_pred = knn.predict(x_test)"
   ]
  },
  {
   "cell_type": "code",
   "execution_count": 11,
   "id": "1ebb7b0a",
   "metadata": {},
   "outputs": [
    {
     "data": {
      "text/plain": [
       "0.9239766081871345"
      ]
     },
     "execution_count": 11,
     "metadata": {},
     "output_type": "execute_result"
    }
   ],
   "source": [
    "# scor the model\n",
    "\n",
    "knn.score(x_test, y_test)"
   ]
  },
  {
   "cell_type": "code",
   "execution_count": 12,
   "id": "4152d181",
   "metadata": {},
   "outputs": [],
   "source": [
    "# confusion matix\n",
    "cm = confusion_matrix(y_true=y_test, y_pred=y_pred)\n",
    "cm\n",
    "tp, fn , fp, tn = cm.ravel()"
   ]
  },
  {
   "cell_type": "code",
   "execution_count": 13,
   "id": "47296c87",
   "metadata": {},
   "outputs": [],
   "source": [
    "# accuracy_score = Σ(T) / all\n",
    "a_score = accuracy_score(y_test, y_pred)\n",
    "\n",
    "# recall_score =  TP / TP+FN\n",
    "recall_score(y_test, y_pred,pos_label=0)\n",
    "\n",
    "# specificity = TN / (TN + FP)\n",
    "recall_score(y_test, y_pred, pos_label=1)\n",
    "\n",
    "# precision = TP / Σ(P)\n",
    "precision_score(y_test, y_pred, pos_label=0)\n",
    "\n",
    "# f1_score = 2TP / (2TP + FP + FN)\n",
    "f1_score(y_test, y_pred, pos_label=0);"
   ]
  },
  {
   "cell_type": "code",
   "execution_count": 14,
   "id": "fa4e8d12",
   "metadata": {},
   "outputs": [],
   "source": [
    "# ROC curve\n",
    "fpr, tpr, threshols = roc_curve(y_test, y_pred)"
   ]
  },
  {
   "cell_type": "code",
   "execution_count": 15,
   "id": "e98b7d12",
   "metadata": {},
   "outputs": [
    {
     "data": {
      "image/png": "[encoded data removed]",
      "text/plain": [
       "<Figure size 432x288 with 1 Axes>"
      ]
     },
     "metadata": {
      "needs_background": "light"
     },
     "output_type": "display_data"
    }
   ],
   "source": [
    "sns.lineplot(x=fpr, y=tpr)\n",
    "plt.plot( [0,1]);"
   ]
  },
  {
   "cell_type": "code",
   "execution_count": null,
   "id": "103bde38",
   "metadata": {},
   "outputs": [],
   "source": []
  },
  {
   "cell_type": "code",
   "execution_count": null,
   "id": "5088efd8",
   "metadata": {},
   "outputs": [],
   "source": []
  }
 ],
 "metadata": {
  "kernelspec": {
   "display_name": "Python 3",
   "language": "python",
   "name": "python3"
  },
  "language_info": {
   "codemirror_mode": {
    "name": "ipython",
    "version": 3
   },
   "file_extension": ".py",
   "mimetype": "text/x-python",
   "name": "python",
   "nbconvert_exporter": "python",
   "pygments_lexer": "ipython3",
   "version": "3.8.8"
  }
 },
 "nbformat": 4,
 "nbformat_minor": 5
}
